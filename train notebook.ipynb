{
 "cells": [
  {
   "cell_type": "code",
   "execution_count": 1,
   "metadata": {},
   "outputs": [],
   "source": [
    "import numpy as np\n",
    "import matplotlib.pyplot as plt\n",
    "import pandas as pd"
   ]
  },
  {
   "cell_type": "code",
   "execution_count": 2,
   "metadata": {},
   "outputs": [],
   "source": [
    "dataset = pd.read_csv('twitter data.csv')"
   ]
  },
  {
   "cell_type": "code",
   "execution_count": 3,
   "metadata": {},
   "outputs": [
    {
     "data": {
      "text/html": [
       "<div>\n",
       "<style scoped>\n",
       "    .dataframe tbody tr th:only-of-type {\n",
       "        vertical-align: middle;\n",
       "    }\n",
       "\n",
       "    .dataframe tbody tr th {\n",
       "        vertical-align: top;\n",
       "    }\n",
       "\n",
       "    .dataframe thead th {\n",
       "        text-align: right;\n",
       "    }\n",
       "</style>\n",
       "<table border=\"1\" class=\"dataframe\">\n",
       "  <thead>\n",
       "    <tr style=\"text-align: right;\">\n",
       "      <th></th>\n",
       "      <th>id</th>\n",
       "      <th>label</th>\n",
       "      <th>tweet</th>\n",
       "    </tr>\n",
       "  </thead>\n",
       "  <tbody>\n",
       "    <tr>\n",
       "      <th>0</th>\n",
       "      <td>1</td>\n",
       "      <td>0</td>\n",
       "      <td>@user when a father is dysfunctional and is s...</td>\n",
       "    </tr>\n",
       "    <tr>\n",
       "      <th>1</th>\n",
       "      <td>2</td>\n",
       "      <td>0</td>\n",
       "      <td>@user @user thanks for #lyft credit i can't us...</td>\n",
       "    </tr>\n",
       "    <tr>\n",
       "      <th>2</th>\n",
       "      <td>3</td>\n",
       "      <td>0</td>\n",
       "      <td>bihday your majesty</td>\n",
       "    </tr>\n",
       "    <tr>\n",
       "      <th>3</th>\n",
       "      <td>4</td>\n",
       "      <td>0</td>\n",
       "      <td>#model   i love u take with u all the time in ...</td>\n",
       "    </tr>\n",
       "    <tr>\n",
       "      <th>4</th>\n",
       "      <td>5</td>\n",
       "      <td>0</td>\n",
       "      <td>factsguide: society now    #motivation</td>\n",
       "    </tr>\n",
       "  </tbody>\n",
       "</table>\n",
       "</div>"
      ],
      "text/plain": [
       "   id  label                                              tweet\n",
       "0   1      0   @user when a father is dysfunctional and is s...\n",
       "1   2      0  @user @user thanks for #lyft credit i can't us...\n",
       "2   3      0                                bihday your majesty\n",
       "3   4      0  #model   i love u take with u all the time in ...\n",
       "4   5      0             factsguide: society now    #motivation"
      ]
     },
     "execution_count": 3,
     "metadata": {},
     "output_type": "execute_result"
    }
   ],
   "source": [
    "dataset.head()"
   ]
  },
  {
   "cell_type": "code",
   "execution_count": 5,
   "metadata": {},
   "outputs": [
    {
     "name": "stderr",
     "output_type": "stream",
     "text": [
      "[nltk_data] Downloading package stopwords to\n",
      "[nltk_data]     C:\\Users\\susitha\\AppData\\Roaming\\nltk_data...\n",
      "[nltk_data]   Package stopwords is already up-to-date!\n"
     ]
    }
   ],
   "source": [
    "import re\n",
    "import nltk\n",
    "nltk.download('stopwords')\n",
    "\n",
    "\n",
    "from nltk.corpus import stopwords\n",
    "from nltk.stem.porter import PorterStemmer\n",
    "ps = PorterStemmer()\n",
    "data=[]"
   ]
  },
  {
   "cell_type": "code",
   "execution_count": 6,
   "metadata": {},
   "outputs": [],
   "source": [
    "for i in range(0,31962):\n",
    "        review=dataset[\"tweet\"][i]\n",
    "        review = re.sub('[^a-zA-Z]', ' ', review)\n",
    "        review = review.lower()\n",
    "        review = review.split()\n",
    "        review = [ps.stem(word) for word in review if not word in set(stopwords.words('english'))]\n",
    "        review = ' '.join(review)\n",
    "        data.append(review)"
   ]
  },
  {
   "cell_type": "code",
   "execution_count": 7,
   "metadata": {},
   "outputs": [
    {
     "data": {
      "text/plain": [
       "['user father dysfunct selfish drag kid dysfunct run',\n",
       " 'user user thank lyft credit use caus offer wheelchair van pdx disapoint getthank',\n",
       " 'bihday majesti',\n",
       " 'model love u take u time ur',\n",
       " 'factsguid societi motiv']"
      ]
     },
     "execution_count": 7,
     "metadata": {},
     "output_type": "execute_result"
    }
   ],
   "source": [
    "data[:5]"
   ]
  },
  {
   "cell_type": "code",
   "execution_count": 8,
   "metadata": {},
   "outputs": [],
   "source": [
    "from sklearn.feature_extraction.text import CountVectorizer\n",
    "cv = CountVectorizer(max_features=1500)\n",
    "X = cv.fit_transform(data).toarray()\n",
    "y=dataset.iloc[:,1].values"
   ]
  },
  {
   "cell_type": "code",
   "execution_count": 9,
   "metadata": {},
   "outputs": [],
   "source": [
    "import pickle\n",
    "pickle.dump(cv, open(\"cv.pkl\", \"wb\"))"
   ]
  },
  {
   "cell_type": "code",
   "execution_count": 10,
   "metadata": {},
   "outputs": [],
   "source": [
    "from sklearn.model_selection import train_test_split\n",
    "X_train, X_test, y_train, y_test = train_test_split(X, y, test_size = 0.20, random_state = 0)"
   ]
  },
  {
   "cell_type": "code",
   "execution_count": 11,
   "metadata": {},
   "outputs": [
    {
     "name": "stderr",
     "output_type": "stream",
     "text": [
      "Using TensorFlow backend.\n"
     ]
    }
   ],
   "source": [
    "import keras"
   ]
  },
  {
   "cell_type": "code",
   "execution_count": 12,
   "metadata": {},
   "outputs": [],
   "source": [
    "from keras.models import Sequential\n",
    "from keras.layers import Dense"
   ]
  },
  {
   "cell_type": "code",
   "execution_count": 13,
   "metadata": {},
   "outputs": [
    {
     "data": {
      "text/plain": [
       "(6393, 1500)"
      ]
     },
     "execution_count": 13,
     "metadata": {},
     "output_type": "execute_result"
    }
   ],
   "source": [
    "X_test.shape"
   ]
  },
  {
   "cell_type": "code",
   "execution_count": 14,
   "metadata": {},
   "outputs": [
    {
     "name": "stderr",
     "output_type": "stream",
     "text": [
      "C:\\Users\\susitha\\anaconda3\\lib\\site-packages\\ipykernel_launcher.py:5: UserWarning: Update your `Dense` call to the Keras 2 API: `Dense(activation=\"relu\", input_dim=1500, units=6, kernel_initializer=\"uniform\")`\n",
      "  \"\"\"\n",
      "C:\\Users\\susitha\\anaconda3\\lib\\site-packages\\ipykernel_launcher.py:7: UserWarning: Update your `Dense` call to the Keras 2 API: `Dense(activation=\"relu\", units=6, kernel_initializer=\"uniform\")`\n",
      "  import sys\n",
      "C:\\Users\\susitha\\anaconda3\\lib\\site-packages\\ipykernel_launcher.py:9: UserWarning: Update your `Dense` call to the Keras 2 API: `Dense(activation=\"sigmoid\", units=1, kernel_initializer=\"uniform\")`\n",
      "  if __name__ == '__main__':\n"
     ]
    }
   ],
   "source": [
    "model = Sequential()\n",
    "\n",
    "\n",
    "\n",
    "model.add(Dense(output_dim = 6, init = 'uniform', activation = 'relu', input_dim = 1500))\n",
    "\n",
    "model.add(Dense(output_dim = 6, init = 'uniform', activation = 'relu'))\n",
    "\n",
    "model.add(Dense(output_dim = 1, init = 'uniform', activation = 'sigmoid'))"
   ]
  },
  {
   "cell_type": "code",
   "execution_count": 15,
   "metadata": {},
   "outputs": [],
   "source": [
    "model.compile(optimizer = 'adam', loss = 'binary_crossentropy', metrics = ['accuracy'])"
   ]
  },
  {
   "cell_type": "code",
   "execution_count": 16,
   "metadata": {},
   "outputs": [
    {
     "name": "stdout",
     "output_type": "stream",
     "text": [
      "Epoch 1/50\n",
      "25569/25569 [==============================] - 9s 335us/step - loss: 0.2808 - accuracy: 0.9278\n",
      "Epoch 2/50\n",
      "25569/25569 [==============================] - 2s 63us/step - loss: 0.1523 - accuracy: 0.9283\n",
      "Epoch 3/50\n",
      "25569/25569 [==============================] - 2s 63us/step - loss: 0.1332 - accuracy: 0.9451\n",
      "Epoch 4/50\n",
      "25569/25569 [==============================] - 2s 89us/step - loss: 0.1228 - accuracy: 0.9592\n",
      "Epoch 5/50\n",
      "25569/25569 [==============================] - 2s 75us/step - loss: 0.1153 - accuracy: 0.9607\n",
      "Epoch 6/50\n",
      "25569/25569 [==============================] - 2s 77us/step - loss: 0.1092 - accuracy: 0.9635\n",
      "Epoch 7/50\n",
      "25569/25569 [==============================] - 2s 76us/step - loss: 0.1046 - accuracy: 0.9653\n",
      "Epoch 8/50\n",
      "25569/25569 [==============================] - 2s 82us/step - loss: 0.1006 - accuracy: 0.9662\n",
      "Epoch 9/50\n",
      "25569/25569 [==============================] - 2s 64us/step - loss: 0.0971 - accuracy: 0.9679\n",
      "Epoch 10/50\n",
      "25569/25569 [==============================] - 2s 63us/step - loss: 0.0944 - accuracy: 0.9683\n",
      "Epoch 11/50\n",
      "25569/25569 [==============================] - 2s 61us/step - loss: 0.0917 - accuracy: 0.9697\n",
      "Epoch 12/50\n",
      "25569/25569 [==============================] - 2s 62us/step - loss: 0.0888 - accuracy: 0.9709\n",
      "Epoch 13/50\n",
      "25569/25569 [==============================] - 2s 64us/step - loss: 0.0864 - accuracy: 0.9713\n",
      "Epoch 14/50\n",
      "25569/25569 [==============================] - 2s 62us/step - loss: 0.0839 - accuracy: 0.9719\n",
      "Epoch 15/50\n",
      "25569/25569 [==============================] - 2s 67us/step - loss: 0.0814 - accuracy: 0.9729\n",
      "Epoch 16/50\n",
      "25569/25569 [==============================] - 2s 61us/step - loss: 0.0788 - accuracy: 0.9741\n",
      "Epoch 17/50\n",
      "25569/25569 [==============================] - 2s 66us/step - loss: 0.0763 - accuracy: 0.9746\n",
      "Epoch 18/50\n",
      "25569/25569 [==============================] - 2s 79us/step - loss: 0.0732 - accuracy: 0.9754\n",
      "Epoch 19/50\n",
      "25569/25569 [==============================] - 2s 64us/step - loss: 0.0707 - accuracy: 0.9770\n",
      "Epoch 20/50\n",
      "25569/25569 [==============================] - 2s 61us/step - loss: 0.0673 - accuracy: 0.9782\n",
      "Epoch 21/50\n",
      "25569/25569 [==============================] - 2s 62us/step - loss: 0.0639 - accuracy: 0.9792\n",
      "Epoch 22/50\n",
      "25569/25569 [==============================] - 2s 62us/step - loss: 0.0605 - accuracy: 0.9811\n",
      "Epoch 23/50\n",
      "25569/25569 [==============================] - 2s 65us/step - loss: 0.0574 - accuracy: 0.9821\n",
      "Epoch 24/50\n",
      "25569/25569 [==============================] - 2s 63us/step - loss: 0.0538 - accuracy: 0.9834\n",
      "Epoch 25/50\n",
      "25569/25569 [==============================] - 2s 67us/step - loss: 0.0505 - accuracy: 0.9849\n",
      "Epoch 26/50\n",
      "25569/25569 [==============================] - 2s 65us/step - loss: 0.0474 - accuracy: 0.9855\n",
      "Epoch 27/50\n",
      "25569/25569 [==============================] - 2s 72us/step - loss: 0.0443 - accuracy: 0.9867\n",
      "Epoch 28/50\n",
      "25569/25569 [==============================] - 2s 67us/step - loss: 0.0412 - accuracy: 0.9876\n",
      "Epoch 29/50\n",
      "25569/25569 [==============================] - 2s 64us/step - loss: 0.0382 - accuracy: 0.9889\n",
      "Epoch 30/50\n",
      "25569/25569 [==============================] - 2s 63us/step - loss: 0.0353 - accuracy: 0.9898\n",
      "Epoch 31/50\n",
      "25569/25569 [==============================] - 2s 63us/step - loss: 0.0332 - accuracy: 0.9902\n",
      "Epoch 32/50\n",
      "25569/25569 [==============================] - 2s 63us/step - loss: 0.0307 - accuracy: 0.9916\n",
      "Epoch 33/50\n",
      "25569/25569 [==============================] - 2s 65us/step - loss: 0.0285 - accuracy: 0.9920\n",
      "Epoch 34/50\n",
      "25569/25569 [==============================] - 2s 72us/step - loss: 0.0267 - accuracy: 0.9931\n",
      "Epoch 35/50\n",
      "25569/25569 [==============================] - 2s 88us/step - loss: 0.0252 - accuracy: 0.9933\n",
      "Epoch 36/50\n",
      "25569/25569 [==============================] - 2s 97us/step - loss: 0.0238 - accuracy: 0.9935\n",
      "Epoch 37/50\n",
      "25569/25569 [==============================] - 2s 83us/step - loss: 0.0222 - accuracy: 0.9941\n",
      "Epoch 38/50\n",
      "25569/25569 [==============================] - 2s 77us/step - loss: 0.0213 - accuracy: 0.9946\n",
      "Epoch 39/50\n",
      "25569/25569 [==============================] - 2s 88us/step - loss: 0.0204 - accuracy: 0.9946\n",
      "Epoch 40/50\n",
      "25569/25569 [==============================] - 2s 65us/step - loss: 0.0194 - accuracy: 0.9951\n",
      "Epoch 41/50\n",
      "25569/25569 [==============================] - 2s 66us/step - loss: 0.0186 - accuracy: 0.9951\n",
      "Epoch 42/50\n",
      "25569/25569 [==============================] - 1s 57us/step - loss: 0.0180 - accuracy: 0.9958\n",
      "Epoch 43/50\n",
      "25569/25569 [==============================] - 2s 62us/step - loss: 0.0175 - accuracy: 0.9956\n",
      "Epoch 44/50\n",
      "25569/25569 [==============================] - 2s 73us/step - loss: 0.0172 - accuracy: 0.9957\n",
      "Epoch 45/50\n",
      "25569/25569 [==============================] - 2s 90us/step - loss: 0.0167 - accuracy: 0.9959\n",
      "Epoch 46/50\n",
      "25569/25569 [==============================] - 2s 70us/step - loss: 0.0162 - accuracy: 0.9959\n",
      "Epoch 47/50\n",
      "25569/25569 [==============================] - 2s 66us/step - loss: 0.0160 - accuracy: 0.9962\n",
      "Epoch 48/50\n",
      "25569/25569 [==============================] - 2s 69us/step - loss: 0.0156 - accuracy: 0.9961\n",
      "Epoch 49/50\n",
      "25569/25569 [==============================] - 2s 66us/step - loss: 0.0153 - accuracy: 0.9960\n",
      "Epoch 50/50\n",
      "25569/25569 [==============================] - 2s 67us/step - loss: 0.0147 - accuracy: 0.9959\n"
     ]
    },
    {
     "data": {
      "text/plain": [
       "<keras.callbacks.callbacks.History at 0x17ae28eff08>"
      ]
     },
     "execution_count": 16,
     "metadata": {},
     "output_type": "execute_result"
    }
   ],
   "source": [
    "model.fit(X_train,y_train,batch_size=32,epochs=50)"
   ]
  },
  {
   "cell_type": "code",
   "execution_count": 17,
   "metadata": {},
   "outputs": [],
   "source": [
    "model.save('mymodel.h5')"
   ]
  },
  {
   "cell_type": "code",
   "execution_count": null,
   "metadata": {},
   "outputs": [],
   "source": []
  }
 ],
 "metadata": {
  "kernelspec": {
   "display_name": "Python 3",
   "language": "python",
   "name": "python3"
  },
  "language_info": {
   "codemirror_mode": {
    "name": "ipython",
    "version": 3
   },
   "file_extension": ".py",
   "mimetype": "text/x-python",
   "name": "python",
   "nbconvert_exporter": "python",
   "pygments_lexer": "ipython3",
   "version": "3.7.6"
  }
 },
 "nbformat": 4,
 "nbformat_minor": 4
}
